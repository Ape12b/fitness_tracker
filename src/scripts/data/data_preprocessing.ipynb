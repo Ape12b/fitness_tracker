{
  "cells": [
    {
      "cell_type": "code",
      "execution_count": 6,
      "metadata": {
        "colab": {
          "base_uri": "https://localhost:8080/"
        },
        "id": "H0oC1D41yYSt",
        "outputId": "7727eabe-26e5-49f4-c2a7-fe8dd1697ede"
      },
      "outputs": [
        {
          "name": "stdout",
          "output_type": "stream",
          "text": [
            "['../../data/raw/A-bench-heavy2-rpe8_MetaWear_2019-01-11T16.10.08.270_C42732BE255C_Accelerometer_12.500Hz_1.4.4.csv', '../../data/raw/A-bench-heavy2-rpe8_MetaWear_2019-01-11T16.10.08.270_C42732BE255C_Gyroscope_25.000Hz_1.4.4.csv', '../../data/raw/A-bench-heavy2_MetaWear_2019-01-14T14.27.00.784_C42732BE255C_Accelerometer_12.500Hz_1.4.4.csv', '../../data/raw/A-bench-heavy2_MetaWear_2019-01-14T14.27.00.784_C42732BE255C_Gyroscope_25.000Hz_1.4.4.csv', '../../data/raw/A-bench-heavy3-rpe8_MetaWear_2019-01-11T16.14.45.178_C42732BE255C_Accelerometer_12.500Hz_1.4.4.csv', '../../data/raw/A-bench-heavy3-rpe8_MetaWear_2019-01-11T16.14.45.178_C42732BE255C_Gyroscope_25.000Hz_1.4.4.csv', '../../data/raw/A-bench-heavy_MetaWear_2019-01-14T14.22.49.165_C42732BE255C_Accelerometer_12.500Hz_1.4.4.csv', '../../data/raw/A-bench-heavy_MetaWear_2019-01-14T14.22.49.165_C42732BE255C_Gyroscope_25.000Hz_1.4.4.csv', '../../data/raw/A-dead-heavy_MetaWear_2019-01-15T20.35.27.174_C42732BE255C_Accelerometer_12.500Hz_1.4.4.csv', '../../data/raw/A-dead-heavy_MetaWear_2019-01-15T20.35.27.174_C42732BE255C_Gyroscope_25.000Hz_1.4.4.csv', '../../data/raw/A-dead-medium1-rpe6_MetaWear_2019-01-11T17.24.24.832_C42732BE255C_Accelerometer_12.500Hz_1.4.4.csv', '../../data/raw/A-dead-medium1-rpe6_MetaWear_2019-01-11T17.24.24.832_C42732BE255C_Gyroscope_25.000Hz_1.4.4.csv', '../../data/raw/A-dead-medium_MetaWear_2019-01-15T20.26.26.347_C42732BE255C_Accelerometer_12.500Hz_1.4.4.csv', '../../data/raw/A-dead-medium_MetaWear_2019-01-15T20.26.26.347_C42732BE255C_Gyroscope_25.000Hz_1.4.4.csv', '../../data/raw/A-dead-medium_MetaWear_2019-01-15T20.30.34.601_C42732BE255C_Accelerometer_12.500Hz_1.4.4.csv', '../../data/raw/A-dead-medium_MetaWear_2019-01-15T20.30.34.601_C42732BE255C_Gyroscope_25.000Hz_1.4.4.csv', '../../data/raw/A-ohp-heavy1-rpe8_MetaWear_2019-01-11T16.38.54.580_C42732BE255C_Accelerometer_12.500Hz_1.4.4.csv', '../../data/raw/A-ohp-heavy1-rpe8_MetaWear_2019-01-11T16.38.54.580_C42732BE255C_Gyroscope_25.000Hz_1.4.4.csv', '../../data/raw/A-ohp-heavy2-rpe7_MetaWear_2019-01-11T16.41.24.439_C42732BE255C_Accelerometer_12.500Hz_1.4.4.csv', '../../data/raw/A-ohp-heavy2-rpe7_MetaWear_2019-01-11T16.41.24.439_C42732BE255C_Gyroscope_25.000Hz_1.4.4.csv', '../../data/raw/A-ohp-heavy3-rpe7_MetaWear_2019-01-11T16.44.00.801_C42732BE255C_Accelerometer_12.500Hz_1.4.4.csv', '../../data/raw/A-ohp-heavy3-rpe7_MetaWear_2019-01-11T16.44.00.801_C42732BE255C_Gyroscope_25.000Hz_1.4.4.csv', '../../data/raw/A-ohp-heavy_MetaWear_2019-01-14T14.49.46.484_C42732BE255C_Accelerometer_12.500Hz_1.4.4.csv', '../../data/raw/A-ohp-heavy_MetaWear_2019-01-14T14.49.46.484_C42732BE255C_Gyroscope_25.000Hz_1.4.4.csv', '../../data/raw/A-ohp-heavy_MetaWear_2019-01-14T14.53.06.282_C42732BE255C_Accelerometer_12.500Hz_1.4.4.csv', '../../data/raw/A-ohp-heavy_MetaWear_2019-01-14T14.53.06.282_C42732BE255C_Gyroscope_25.000Hz_1.4.4.csv', '../../data/raw/A-ohp-heavy_MetaWear_2019-01-14T14.55.42.246_C42732BE255C_Accelerometer_12.500Hz_1.4.4.csv', '../../data/raw/A-ohp-heavy_MetaWear_2019-01-14T14.55.42.246_C42732BE255C_Gyroscope_25.000Hz_1.4.4.csv', '../../data/raw/A-ohp-medium1-rpe7_MetaWear_2019-01-11T16.53.53.376_C42732BE255C_Accelerometer_12.500Hz_1.4.4.csv', '../../data/raw/A-ohp-medium1-rpe7_MetaWear_2019-01-11T16.53.53.376_C42732BE255C_Gyroscope_25.000Hz_1.4.4.csv', '../../data/raw/A-ohp-medium2-rpe7_MetaWear_2019-01-11T16.57.30.113_C42732BE255C_Accelerometer_12.500Hz_1.4.4.csv', '../../data/raw/A-ohp-medium2-rpe7_MetaWear_2019-01-11T16.57.30.113_C42732BE255C_Gyroscope_25.000Hz_1.4.4.csv', '../../data/raw/A-ohp-medium3-rpe7_MetaWear_2019-01-11T17.00.49.801_C42732BE255C_Accelerometer_12.500Hz_1.4.4.csv', '../../data/raw/A-ohp-medium3-rpe7_MetaWear_2019-01-11T17.00.49.801_C42732BE255C_Gyroscope_25.000Hz_1.4.4.csv', '../../data/raw/A-rest-sitting_MetaWear_2019-01-18T18.22.25.565_C42732BE255C_Accelerometer_12.500Hz_1.4.4.csv', '../../data/raw/A-rest-sitting_MetaWear_2019-01-18T18.22.25.565_C42732BE255C_Accelerometer_12.500Hz_1.4.41.csv', '../../data/raw/A-rest-sitting_MetaWear_2019-01-18T18.22.25.565_C42732BE255C_Gyroscope_25.000Hz_1.4.4.csv', '../../data/raw/A-rest-sitting_MetaWear_2019-01-18T18.22.25.565_C42732BE255C_Gyroscope_25.000Hz_1.4.41.csv', '../../data/raw/A-rest-standing_MetaWear_2019-01-18T18.25.39.382_C42732BE255C_Accelerometer_12.500Hz_1.4.4.csv', '../../data/raw/A-rest-standing_MetaWear_2019-01-18T18.25.39.382_C42732BE255C_Accelerometer_12.500Hz_1.4.41.csv', '../../data/raw/A-rest-standing_MetaWear_2019-01-18T18.25.39.382_C42732BE255C_Gyroscope_25.000Hz_1.4.4.csv', '../../data/raw/A-rest-standing_MetaWear_2019-01-18T18.25.39.382_C42732BE255C_Gyroscope_25.000Hz_1.4.41.csv', '../../data/raw/A-row-heavy_MetaWear_2019-01-14T15.04.06.123_C42732BE255C_Accelerometer_12.500Hz_1.4.4.csv', '../../data/raw/A-row-heavy_MetaWear_2019-01-14T15.04.06.123_C42732BE255C_Gyroscope_25.000Hz_1.4.4.csv', '../../data/raw/A-row-heavy_MetaWear_2019-01-14T15.06.50.281_C42732BE255C_Accelerometer_12.500Hz_1.4.4.csv', '../../data/raw/A-row-heavy_MetaWear_2019-01-14T15.06.50.281_C42732BE255C_Gyroscope_25.000Hz_1.4.4.csv', '../../data/raw/A-squat-heavy_MetaWear_2019-01-15T20.04.08.637_C42732BE255C_Accelerometer_12.500Hz_1.4.4.csv', '../../data/raw/A-squat-heavy_MetaWear_2019-01-15T20.04.08.637_C42732BE255C_Gyroscope_25.000Hz_1.4.4.csv', '../../data/raw/A-squat-heavy_MetaWear_2019-01-15T20.09.06.903_C42732BE255C_Accelerometer_12.500Hz_1.4.4.csv', '../../data/raw/A-squat-heavy_MetaWear_2019-01-15T20.09.06.903_C42732BE255C_Gyroscope_25.000Hz_1.4.4.csv', '../../data/raw/A-squat-heavy_MetaWear_2019-01-15T20.14.03.633_C42732BE255C_Accelerometer_12.500Hz_1.4.4.csv', '../../data/raw/A-squat-heavy_MetaWear_2019-01-15T20.14.03.633_C42732BE255C_Gyroscope_25.000Hz_1.4.4.csv', '../../data/raw/A-squat-medium1-rpe7_MetaWear_2019-01-11T17.05.44.498_C42732BE255C_Accelerometer_12.500Hz_1.4.4.csv', '../../data/raw/A-squat-medium1-rpe7_MetaWear_2019-01-11T17.05.44.498_C42732BE255C_Gyroscope_25.000Hz_1.4.4.csv', '../../data/raw/A-squat-medium2-rpe8_MetaWear_2019-01-11T17.17.15.443_C42732BE255C_Accelerometer_12.500Hz_1.4.4.csv', '../../data/raw/A-squat-medium2-rpe8_MetaWear_2019-01-11T17.17.15.443_C42732BE255C_Gyroscope_25.000Hz_1.4.4.csv', '../../data/raw/A-squat-medium3-rpe7_MetaWear_2019-01-11T17.19.34.896_C42732BE255C_Accelerometer_12.500Hz_1.4.4.csv', '../../data/raw/A-squat-medium3-rpe7_MetaWear_2019-01-11T17.19.34.896_C42732BE255C_Gyroscope_25.000Hz_1.4.4.csv', '../../data/raw/B-bench-heavy1-rpe8_MetaWear_2019-01-11T16.08.04.758_C42732BE255C_Accelerometer_12.500Hz_1.4.4.csv', '../../data/raw/B-bench-heavy1-rpe8_MetaWear_2019-01-11T16.08.04.758_C42732BE255C_Gyroscope_25.000Hz_1.4.4.csv', '../../data/raw/B-bench-heavy2-rpe8_MetaWear_2019-01-11T16.12.04.794_C42732BE255C_Accelerometer_12.500Hz_1.4.4.csv', '../../data/raw/B-bench-heavy2-rpe8_MetaWear_2019-01-11T16.12.04.794_C42732BE255C_Gyroscope_25.000Hz_1.4.4.csv', '../../data/raw/B-ohp-heavy1-rpe8_MetaWear_2019-01-11T16.40.07.902_C42732BE255C_Accelerometer_12.500Hz_1.4.4.csv', '../../data/raw/B-ohp-heavy1-rpe8_MetaWear_2019-01-11T16.40.07.902_C42732BE255C_Gyroscope_25.000Hz_1.4.4.csv', '../../data/raw/B-ohp-heavy2-rpe7_MetaWear_2019-01-11T16.42.43.398_C42732BE255C_Accelerometer_12.500Hz_1.4.4.csv', '../../data/raw/B-ohp-heavy2-rpe7_MetaWear_2019-01-11T16.42.43.398_C42732BE255C_Gyroscope_25.000Hz_1.4.4.csv', '../../data/raw/B-ohp-heavy3-rpe8_MetaWear_2019-01-11T16.45.55.708_C42732BE255C_Accelerometer_12.500Hz_1.4.4.csv', '../../data/raw/B-ohp-heavy3-rpe8_MetaWear_2019-01-11T16.45.55.708_C42732BE255C_Gyroscope_25.000Hz_1.4.4.csv', '../../data/raw/B-ohp-medium1-rpe8_MetaWear_2019-01-11T16.48.54.290_C42732BE255C_Accelerometer_12.500Hz_1.4.4.csv', '../../data/raw/B-ohp-medium1-rpe8_MetaWear_2019-01-11T16.48.54.290_C42732BE255C_Gyroscope_25.000Hz_1.4.4.csv', '../../data/raw/B-ohp-medium2-rpe8_MetaWear_2019-01-11T16.55.53.154_C42732BE255C_Accelerometer_12.500Hz_1.4.4.csv', '../../data/raw/B-ohp-medium2-rpe8_MetaWear_2019-01-11T16.55.53.154_C42732BE255C_Gyroscope_25.000Hz_1.4.4.csv', '../../data/raw/B-ohp-medium3-rpe9_MetaWear_2019-01-11T16.59.28.181_C42732BE255C_Accelerometer_12.500Hz_1.4.4.csv', '../../data/raw/B-ohp-medium3-rpe9_MetaWear_2019-01-11T16.59.28.181_C42732BE255C_Gyroscope_25.000Hz_1.4.4.csv', '../../data/raw/B-squat-medium1-rpe9_MetaWear_2019-01-11T17.09.32.694_C42732BE255C_Accelerometer_12.500Hz_1.4.4.csv', '../../data/raw/B-squat-medium1-rpe9_MetaWear_2019-01-11T17.09.32.694_C42732BE255C_Gyroscope_25.000Hz_1.4.4.csv', '../../data/raw/C-bench-heavy1_MetaWear_2019-01-14T14.29.37.418_C42732BE255C_Accelerometer_12.500Hz_1.4.4.csv', '../../data/raw/C-bench-heavy1_MetaWear_2019-01-14T14.29.37.418_C42732BE255C_Gyroscope_25.000Hz_1.4.4.csv', '../../data/raw/C-bench-heavy2_MetaWear_2019-01-14T14.32.11.392_C42732BE255C_Accelerometer_12.500Hz_1.4.4.csv', '../../data/raw/C-bench-heavy2_MetaWear_2019-01-14T14.32.11.392_C42732BE255C_Gyroscope_25.000Hz_1.4.4.csv', '../../data/raw/C-bench-heavy_MetaWear_2019-01-14T14.51.27.130_C42732BE255C_Accelerometer_12.500Hz_1.4.4.csv', '../../data/raw/C-bench-heavy_MetaWear_2019-01-14T14.51.27.130_C42732BE255C_Gyroscope_25.000Hz_1.4.4.csv', '../../data/raw/C-dead-medium_MetaWear_2019-01-15T20.28.15.269_C42732BE255C_Accelerometer_12.500Hz_1.4.4.csv', '../../data/raw/C-dead-medium_MetaWear_2019-01-15T20.28.15.269_C42732BE255C_Gyroscope_25.000Hz_1.4.4.csv', '../../data/raw/C-dead-medium_MetaWear_2019-01-15T20.32.32.136_C42732BE255C_Accelerometer_12.500Hz_1.4.4.csv', '../../data/raw/C-dead-medium_MetaWear_2019-01-15T20.32.32.136_C42732BE255C_Gyroscope_25.000Hz_1.4.4.csv', '../../data/raw/C-dead-medium_MetaWear_2019-01-15T20.37.17.794_C42732BE255C_Accelerometer_12.500Hz_1.4.4.csv', '../../data/raw/C-dead-medium_MetaWear_2019-01-15T20.37.17.794_C42732BE255C_Gyroscope_25.000Hz_1.4.4.csv', '../../data/raw/C-ohp-heavy_MetaWear_2019-01-14T14.54.34.321_C42732BE255C_Accelerometer_12.500Hz_1.4.4.csv', '../../data/raw/C-ohp-heavy_MetaWear_2019-01-14T14.54.34.321_C42732BE255C_Gyroscope_25.000Hz_1.4.4.csv', '../../data/raw/C-ohp-heavy_MetaWear_2019-01-14T14.57.26.702_C42732BE255C_Accelerometer_12.500Hz_1.4.4.csv', '../../data/raw/C-ohp-heavy_MetaWear_2019-01-14T14.57.26.702_C42732BE255C_Gyroscope_25.000Hz_1.4.4.csv', '../../data/raw/C-row-heavy_MetaWear_2019-01-14T15.05.36.986_C42732BE255C_Accelerometer_12.500Hz_1.4.4.csv', '../../data/raw/C-row-heavy_MetaWear_2019-01-14T15.05.36.986_C42732BE255C_Accelerometer_12.500Hz_1.4.41.csv', '../../data/raw/C-row-heavy_MetaWear_2019-01-14T15.05.36.986_C42732BE255C_Gyroscope_25.000Hz_1.4.4.csv', '../../data/raw/C-row-heavy_MetaWear_2019-01-14T15.05.36.986_C42732BE255C_Gyroscope_25.000Hz_1.4.41.csv', '../../data/raw/C-row-heavy_MetaWear_2019-01-14T15.08.50.111_C42732BE255C_Accelerometer_12.500Hz_1.4.4.csv', '../../data/raw/C-row-heavy_MetaWear_2019-01-14T15.08.50.111_C42732BE255C_Accelerometer_12.500Hz_1.4.41.csv', '../../data/raw/C-row-heavy_MetaWear_2019-01-14T15.08.50.111_C42732BE255C_Gyroscope_25.000Hz_1.4.4.csv', '../../data/raw/C-row-heavy_MetaWear_2019-01-14T15.08.50.111_C42732BE255C_Gyroscope_25.000Hz_1.4.41.csv', '../../data/raw/C-row-medium_MetaWear_2019-01-14T15.01.39.689_C42732BE255C_Accelerometer_12.500Hz_1.4.4.csv', '../../data/raw/C-row-medium_MetaWear_2019-01-14T15.01.39.689_C42732BE255C_Accelerometer_12.500Hz_1.4.41.csv', '../../data/raw/C-row-medium_MetaWear_2019-01-14T15.01.39.689_C42732BE255C_Gyroscope_25.000Hz_1.4.4.csv', '../../data/raw/C-row-medium_MetaWear_2019-01-14T15.01.39.689_C42732BE255C_Gyroscope_25.000Hz_1.4.41.csv', '../../data/raw/C-squat-heavy_MetaWear_2019-01-15T20.06.31.280_C42732BE255C_Accelerometer_12.500Hz_1.4.4.csv', '../../data/raw/C-squat-heavy_MetaWear_2019-01-15T20.06.31.280_C42732BE255C_Gyroscope_25.000Hz_1.4.4.csv', '../../data/raw/C-squat-heavy_MetaWear_2019-01-15T20.11.55.634_C42732BE255C_Accelerometer_12.500Hz_1.4.4.csv', '../../data/raw/C-squat-heavy_MetaWear_2019-01-15T20.11.55.634_C42732BE255C_Gyroscope_25.000Hz_1.4.4.csv', '../../data/raw/C-squat-heavy_MetaWear_2019-01-15T20.17.27.856_C42732BE255C_Accelerometer_12.500Hz_1.4.4.csv', '../../data/raw/C-squat-heavy_MetaWear_2019-01-15T20.17.27.856_C42732BE255C_Gyroscope_25.000Hz_1.4.4.csv', '../../data/raw/D-bench-medium_MetaWear_2019-01-18T18.12.13.952_C42732BE255C_Accelerometer_12.500Hz_1.4.4.csv', '../../data/raw/D-bench-medium_MetaWear_2019-01-18T18.12.13.952_C42732BE255C_Gyroscope_25.000Hz_1.4.4.csv', '../../data/raw/D-bench-medium_MetaWear_2019-01-18T18.21.29.033_C42732BE255C_Accelerometer_12.500Hz_1.4.4.csv', '../../data/raw/D-bench-medium_MetaWear_2019-01-18T18.21.29.033_C42732BE255C_Gyroscope_25.000Hz_1.4.4.csv', '../../data/raw/D-bench-medium_MetaWear_2019-01-18T18.24.19.109_C42732BE255C_Accelerometer_12.500Hz_1.4.4.csv', '../../data/raw/D-bench-medium_MetaWear_2019-01-18T18.24.19.109_C42732BE255C_Gyroscope_25.000Hz_1.4.4.csv', '../../data/raw/D-row-medium_MetaWear_2019-01-18T18.30.48.777_C42732BE255C_Accelerometer_12.500Hz_1.4.4.csv', '../../data/raw/D-row-medium_MetaWear_2019-01-18T18.30.48.777_C42732BE255C_Gyroscope_25.000Hz_1.4.4.csv', '../../data/raw/D-row-medium_MetaWear_2019-01-18T18.33.07.895_C42732BE255C_Accelerometer_12.500Hz_1.4.4.csv', '../../data/raw/D-row-medium_MetaWear_2019-01-18T18.33.07.895_C42732BE255C_Gyroscope_25.000Hz_1.4.4.csv', '../../data/raw/D-row-medium_MetaWear_2019-01-18T18.34.52.516_C42732BE255C_Accelerometer_12.500Hz_1.4.4.csv', '../../data/raw/D-row-medium_MetaWear_2019-01-18T18.34.52.516_C42732BE255C_Gyroscope_25.000Hz_1.4.4.csv', '../../data/raw/D-squat-heavy_MetaWear_2019-01-18T18.03.51.096_C42732BE255C_Accelerometer_12.500Hz_1.4.4.csv', '../../data/raw/D-squat-heavy_MetaWear_2019-01-18T18.03.51.096_C42732BE255C_Gyroscope_25.000Hz_1.4.4.csv', '../../data/raw/D-squat-medium_MetaWear_2019-01-18T17.45.47.575_C42732BE255C_Accelerometer_12.500Hz_1.4.4.csv', '../../data/raw/D-squat-medium_MetaWear_2019-01-18T17.45.47.575_C42732BE255C_Gyroscope_25.000Hz_1.4.4.csv', '../../data/raw/D-squat-medium_MetaWear_2019-01-18T17.51.40.910_C42732BE255C_Accelerometer_12.500Hz_1.4.4.csv', '../../data/raw/D-squat-medium_MetaWear_2019-01-18T17.51.40.910_C42732BE255C_Gyroscope_25.000Hz_1.4.4.csv', '../../data/raw/E-bench-heavy2-rpe8_MetaWear_2019-01-11T16.10.08.270_C42732BE255C_Accelerometer_12.500Hz_1.4.4.csv', '../../data/raw/E-bench-heavy2-rpe8_MetaWear_2019-01-11T16.10.08.270_C42732BE255C_Gyroscope_25.000Hz_1.4.4.csv', '../../data/raw/E-bench-heavy2_MetaWear_2019-01-14T14.27.00.784_C42732BE255C_Accelerometer_12.500Hz_1.4.4.csv', '../../data/raw/E-bench-heavy2_MetaWear_2019-01-14T14.27.00.784_C42732BE255C_Gyroscope_25.000Hz_1.4.4.csv', '../../data/raw/E-bench-heavy3-rpe8_MetaWear_2019-01-11T16.14.45.178_C42732BE255C_Accelerometer_12.500Hz_1.4.4.csv', '../../data/raw/E-bench-heavy3-rpe8_MetaWear_2019-01-11T16.14.45.178_C42732BE255C_Gyroscope_25.000Hz_1.4.4.csv', '../../data/raw/E-bench-heavy_MetaWear_2019-01-14T14.22.49.165_C42732BE255C_Accelerometer_12.500Hz_1.4.4.csv', '../../data/raw/E-bench-heavy_MetaWear_2019-01-14T14.22.49.165_C42732BE255C_Gyroscope_25.000Hz_1.4.4.csv', '../../data/raw/E-bench-medium_MetaWear_2019-01-18T18.12.13.952_C42732BE255C_Accelerometer_12.500Hz_1.4.4.csv', '../../data/raw/E-bench-medium_MetaWear_2019-01-18T18.12.13.952_C42732BE255C_Gyroscope_25.000Hz_1.4.4.csv', '../../data/raw/E-bench-medium_MetaWear_2019-01-18T18.21.29.033_C42732BE255C_Accelerometer_12.500Hz_1.4.4.csv', '../../data/raw/E-bench-medium_MetaWear_2019-01-18T18.21.29.033_C42732BE255C_Gyroscope_25.000Hz_1.4.4.csv', '../../data/raw/E-bench-medium_MetaWear_2019-01-18T18.24.19.109_C42732BE255C_Accelerometer_12.500Hz_1.4.4.csv', '../../data/raw/E-bench-medium_MetaWear_2019-01-18T18.24.19.109_C42732BE255C_Gyroscope_25.000Hz_1.4.4.csv', '../../data/raw/E-dead-heavy_MetaWear_2019-01-15T20.35.27.174_C42732BE255C_Accelerometer_12.500Hz_1.4.4.csv', '../../data/raw/E-dead-heavy_MetaWear_2019-01-15T20.35.27.174_C42732BE255C_Gyroscope_25.000Hz_1.4.4.csv', '../../data/raw/E-dead-medium1-rpe6_MetaWear_2019-01-11T17.24.24.832_C42732BE255C_Accelerometer_12.500Hz_1.4.4.csv', '../../data/raw/E-dead-medium1-rpe6_MetaWear_2019-01-11T17.24.24.832_C42732BE255C_Gyroscope_25.000Hz_1.4.4.csv', '../../data/raw/E-dead-medium_MetaWear_2019-01-15T20.26.26.347_C42732BE255C_Accelerometer_12.500Hz_1.4.4.csv', '../../data/raw/E-dead-medium_MetaWear_2019-01-15T20.26.26.347_C42732BE255C_Gyroscope_25.000Hz_1.4.4.csv', '../../data/raw/E-dead-medium_MetaWear_2019-01-15T20.30.34.601_C42732BE255C_Accelerometer_12.500Hz_1.4.4.csv', '../../data/raw/E-dead-medium_MetaWear_2019-01-15T20.30.34.601_C42732BE255C_Gyroscope_25.000Hz_1.4.4.csv', '../../data/raw/E-ohp-heavy_MetaWear_2019-01-14T14.49.46.484_C42732BE255C_Accelerometer_12.500Hz_1.4.4.csv', '../../data/raw/E-ohp-heavy_MetaWear_2019-01-14T14.49.46.484_C42732BE255C_Gyroscope_25.000Hz_1.4.4.csv', '../../data/raw/E-ohp-heavy_MetaWear_2019-01-14T14.53.06.282_C42732BE255C_Accelerometer_12.500Hz_1.4.4.csv', '../../data/raw/E-ohp-heavy_MetaWear_2019-01-14T14.53.06.282_C42732BE255C_Gyroscope_25.000Hz_1.4.4.csv', '../../data/raw/E-ohp-heavy_MetaWear_2019-01-14T14.55.42.246_C42732BE255C_Accelerometer_12.500Hz_1.4.4.csv', '../../data/raw/E-ohp-heavy_MetaWear_2019-01-14T14.55.42.246_C42732BE255C_Gyroscope_25.000Hz_1.4.4.csv', '../../data/raw/E-rest-sitting_MetaWear_2019-01-18T18.22.25.565_C42732BE255C_Accelerometer_12.500Hz_1.4.4.csv', '../../data/raw/E-rest-sitting_MetaWear_2019-01-18T18.22.25.565_C42732BE255C_Accelerometer_12.500Hz_1.4.41.csv', '../../data/raw/E-rest-sitting_MetaWear_2019-01-18T18.22.25.565_C42732BE255C_Gyroscope_25.000Hz_1.4.4.csv', '../../data/raw/E-rest-sitting_MetaWear_2019-01-18T18.22.25.565_C42732BE255C_Gyroscope_25.000Hz_1.4.41.csv', '../../data/raw/E-rest-standing_MetaWear_2019-01-18T18.25.39.382_C42732BE255C_Accelerometer_12.500Hz_1.4.4.csv', '../../data/raw/E-rest-standing_MetaWear_2019-01-18T18.25.39.382_C42732BE255C_Accelerometer_12.500Hz_1.4.41.csv', '../../data/raw/E-rest-standing_MetaWear_2019-01-18T18.25.39.382_C42732BE255C_Gyroscope_25.000Hz_1.4.4.csv', '../../data/raw/E-rest-standing_MetaWear_2019-01-18T18.25.39.382_C42732BE255C_Gyroscope_25.000Hz_1.4.41.csv', '../../data/raw/E-row-heavy_MetaWear_2019-01-14T15.04.06.123_C42732BE255C_Accelerometer_12.500Hz_1.4.4.csv', '../../data/raw/E-row-heavy_MetaWear_2019-01-14T15.04.06.123_C42732BE255C_Accelerometer_12.500Hz_1.4.41.csv', '../../data/raw/E-row-heavy_MetaWear_2019-01-14T15.04.06.123_C42732BE255C_Gyroscope_25.000Hz_1.4.4.csv', '../../data/raw/E-row-heavy_MetaWear_2019-01-14T15.04.06.123_C42732BE255C_Gyroscope_25.000Hz_1.4.41.csv', '../../data/raw/E-row-heavy_MetaWear_2019-01-14T15.06.50.281_C42732BE255C_Accelerometer_12.500Hz_1.4.4.csv', '../../data/raw/E-row-heavy_MetaWear_2019-01-14T15.06.50.281_C42732BE255C_Accelerometer_12.500Hz_1.4.41.csv', '../../data/raw/E-row-heavy_MetaWear_2019-01-14T15.06.50.281_C42732BE255C_Gyroscope_25.000Hz_1.4.4.csv', '../../data/raw/E-row-heavy_MetaWear_2019-01-14T15.06.50.281_C42732BE255C_Gyroscope_25.000Hz_1.4.41.csv', '../../data/raw/E-row-medium_MetaWear_2019-01-18T18.30.48.777_C42732BE255C_Accelerometer_12.500Hz_1.4.4.csv', '../../data/raw/E-row-medium_MetaWear_2019-01-18T18.30.48.777_C42732BE255C_Accelerometer_12.500Hz_1.4.41.csv', '../../data/raw/E-row-medium_MetaWear_2019-01-18T18.30.48.777_C42732BE255C_Gyroscope_25.000Hz_1.4.4.csv', '../../data/raw/E-row-medium_MetaWear_2019-01-18T18.30.48.777_C42732BE255C_Gyroscope_25.000Hz_1.4.41.csv', '../../data/raw/E-row-medium_MetaWear_2019-01-18T18.33.07.895_C42732BE255C_Accelerometer_12.500Hz_1.4.4.csv', '../../data/raw/E-row-medium_MetaWear_2019-01-18T18.33.07.895_C42732BE255C_Accelerometer_12.500Hz_1.4.41.csv', '../../data/raw/E-row-medium_MetaWear_2019-01-18T18.33.07.895_C42732BE255C_Gyroscope_25.000Hz_1.4.4.csv', '../../data/raw/E-row-medium_MetaWear_2019-01-18T18.33.07.895_C42732BE255C_Gyroscope_25.000Hz_1.4.41.csv', '../../data/raw/E-row-medium_MetaWear_2019-01-18T18.34.52.516_C42732BE255C_Accelerometer_12.500Hz_1.4.4.csv', '../../data/raw/E-row-medium_MetaWear_2019-01-18T18.34.52.516_C42732BE255C_Accelerometer_12.500Hz_1.4.41.csv', '../../data/raw/E-row-medium_MetaWear_2019-01-18T18.34.52.516_C42732BE255C_Gyroscope_25.000Hz_1.4.4.csv', '../../data/raw/E-squat-heavy_MetaWear_2019-01-15T20.09.06.903_C42732BE255C_Accelerometer_12.500Hz_1.4.4.csv', '../../data/raw/E-squat-heavy_MetaWear_2019-01-15T20.09.06.903_C42732BE255C_Gyroscope_25.000Hz_1.4.4.csv', '../../data/raw/E-squat-heavy_MetaWear_2019-01-15T20.14.03.633_C42732BE255C_Accelerometer_12.500Hz_1.4.4.csv', '../../data/raw/E-squat-heavy_MetaWear_2019-01-15T20.14.03.633_C42732BE255C_Gyroscope_25.000Hz_1.4.4.csv']\n"
          ]
        }
      ],
      "source": [
        "import pandas as pd\n",
        "from glob import glob\n",
        "\n",
        "# --------------------------------------------------------------\n",
        "# Read single CSV file\n",
        "# --------------------------------------------------------------\n",
        "f = pd.read_csv(\"../../data/raw/A-bench-heavy2-rpe8_MetaWear_2019-01-11T16.10.08.270_C42732BE255C_Accelerometer_12.500Hz_1.4.4.csv\")\n",
        "\n",
        "# --------------------------------------------------------------\n",
        "# List all data in data/raw/MetaMotion\n",
        "# --------------------------------------------------------------\n",
        "from os import listdir\n",
        "from os.path import isfile, join\n",
        "mypath = \"../../data/raw/\"\n",
        "onlyfiles = [join(mypath, f) for f in listdir(mypath) if (isfile(join(mypath, f)) and f[0] != \".\")]\n",
        "filnames = [f.split(\"/\")[-1][0:-4] for f in listdir(mypath) if (isfile(join(mypath, f)) and f[0] != \".\")]\n",
        "print(onlyfiles)"
      ]
    },
    {
      "cell_type": "code",
      "execution_count": 7,
      "metadata": {
        "id": "oHHdKSnC0cOs"
      },
      "outputs": [],
      "source": [
        "# --------------------------------------------------------------\n",
        "# Extract features from filename\n",
        "# Extract participant, excercise label and set intensity from filename\n",
        "# Read all files\n",
        "# --------------------------------------------------------------\n",
        "df_acc = pd.DataFrame()\n",
        "df_gyro = pd.DataFrame()\n",
        "acc_ind = 1\n",
        "gyro_ind = 1\n",
        "\n",
        "\n",
        "for f in onlyfiles:\n",
        "  temp = f.split(\"/\")[-1][:-4].split(\"_\")\n",
        "  sensor = temp[-3]\n",
        "  temp = temp[0].split(\"-\")\n",
        "  participant = temp[0]\n",
        "  excercise = temp[1]\n",
        "  intensity = temp[2]\n",
        "\n",
        "  df = pd.read_csv(f)\n",
        "  df[\"participant\"] = participant\n",
        "  df[\"excercise\"] = excercise\n",
        "  df[\"intensity\"] = intensity\n",
        "\n",
        "  if sensor == \"Gyroscope\":\n",
        "    df[\"ind\"] = gyro_ind\n",
        "    gyro_ind += 1\n",
        "    df_gyro = pd.concat([df_gyro, df])\n",
        "  else:\n",
        "    df[\"ind\"] = acc_ind\n",
        "    acc_ind += 1\n",
        "    df_acc = pd.concat([df_acc, df])"
      ]
    },
    {
      "cell_type": "code",
      "execution_count": 8,
      "metadata": {
        "id": "rsS5CsYCJf8L"
      },
      "outputs": [],
      "source": [
        "# --------------------------------------------------------------\n",
        "# Working with datetimes\n",
        "# --------------------------------------------------------------\n",
        "df_acc.index = pd.to_datetime(df_acc['epoch (ms)'], unit='ms')\n",
        "df_gyro.index = pd.to_datetime(df_gyro['epoch (ms)'], unit='ms')\n",
        "\n",
        "del df_acc[\"epoch (ms)\"]\n",
        "del df_acc['elapsed (s)']\n",
        "del df_acc['time (01:00)']\n",
        "\n",
        "del df_gyro[\"epoch (ms)\"]\n",
        "del df_gyro['elapsed (s)']\n",
        "del df_gyro['time (01:00)']"
      ]
    },
    {
      "cell_type": "code",
      "execution_count": 10,
      "metadata": {
        "id": "vTyo9hU5J3IZ"
      },
      "outputs": [],
      "source": [
        "# --------------------------------------------------------\n",
        "# Turn into function\n",
        "# --------------------------------------------------------------\n",
        "from os import listdir\n",
        "from os.path import isfile, join\n",
        "mypath = \"../../data/raw/\"\n",
        "onlyfiles = [join(mypath, f) for f in listdir(mypath) if (isfile(join(mypath, f)) and f[0] != \".\")]\n",
        "\n",
        "def df_from_files(onlyfiles):\n",
        "  df_acc = pd.DataFrame()\n",
        "  df_gyro = pd.DataFrame()\n",
        "  acc_ind = 1\n",
        "  gyro_ind = 1\n",
        "\n",
        "\n",
        "  for f in onlyfiles:\n",
        "    temp = f.split(\"/\")[-1][:-4].split(\"_\")\n",
        "    sensor = temp[-3]\n",
        "    temp = temp[0].split(\"-\")\n",
        "    participant = temp[0]\n",
        "    excercise = temp[1]\n",
        "    intensity = temp[2]\n",
        "\n",
        "    df = pd.read_csv(f)\n",
        "    df[\"participant\"] = participant\n",
        "    df[\"excercise\"] = excercise\n",
        "    df[\"intensity\"] = intensity\n",
        "\n",
        "\n",
        "    if sensor == \"Gyroscope\":\n",
        "      df[\"ind\"] = gyro_ind\n",
        "      gyro_ind += 1\n",
        "      df_gyro = pd.concat([df_gyro, df])\n",
        "    else:\n",
        "      df[\"ind\"] = acc_ind\n",
        "      acc_ind += 1\n",
        "      df_acc = pd.concat([df_acc, df])\n",
        "\n",
        "  df_acc.index = pd.to_datetime(df_acc['epoch (ms)'], unit='ms')\n",
        "  df_gyro.index = pd.to_datetime(df_gyro['epoch (ms)'], unit='ms')\n",
        "\n",
        "  del df_acc[\"epoch (ms)\"]\n",
        "  del df_acc['elapsed (s)']\n",
        "  del df_acc['time (01:00)']\n",
        "\n",
        "  del df_gyro[\"epoch (ms)\"]\n",
        "  del df_gyro['elapsed (s)']\n",
        "  del df_gyro['time (01:00)']\n",
        "\n",
        "  return df_gyro, df_acc\n",
        "\n",
        "df_gyro, df_acc = df_from_files(onlyfiles)"
      ]
    },
    {
      "cell_type": "code",
      "execution_count": 11,
      "metadata": {
        "colab": {
          "base_uri": "https://localhost:8080/"
        },
        "id": "CMeoYYBJfYOG",
        "outputId": "df52c4a1-2f2a-45f2-ea3d-806f3e4b6112"
      },
      "outputs": [
        {
          "name": "stdout",
          "output_type": "stream",
          "text": [
            "(47218, 7) (23578, 7)\n"
          ]
        }
      ],
      "source": [
        "print(df_gyro.shape, df_acc.shape)"
      ]
    },
    {
      "cell_type": "code",
      "execution_count": 12,
      "metadata": {
        "colab": {
          "base_uri": "https://localhost:8080/",
          "height": 324
        },
        "id": "LGcmJ35EQqo8",
        "outputId": "90c599ba-5f87-45f3-e4a2-c38755db7251"
      },
      "outputs": [
        {
          "data": {
            "text/html": [
              "<div>\n",
              "<style scoped>\n",
              "    .dataframe tbody tr th:only-of-type {\n",
              "        vertical-align: middle;\n",
              "    }\n",
              "\n",
              "    .dataframe tbody tr th {\n",
              "        vertical-align: top;\n",
              "    }\n",
              "\n",
              "    .dataframe thead th {\n",
              "        text-align: right;\n",
              "    }\n",
              "</style>\n",
              "<table border=\"1\" class=\"dataframe\">\n",
              "  <thead>\n",
              "    <tr style=\"text-align: right;\">\n",
              "      <th></th>\n",
              "      <th>acc_x</th>\n",
              "      <th>acc_y</th>\n",
              "      <th>acc_z</th>\n",
              "      <th>gyro_x</th>\n",
              "      <th>gyro_y</th>\n",
              "      <th>gyro_z</th>\n",
              "      <th>participant</th>\n",
              "      <th>excercise</th>\n",
              "      <th>intensity</th>\n",
              "      <th>ind</th>\n",
              "    </tr>\n",
              "    <tr>\n",
              "      <th>epoch (ms)</th>\n",
              "      <th></th>\n",
              "      <th></th>\n",
              "      <th></th>\n",
              "      <th></th>\n",
              "      <th></th>\n",
              "      <th></th>\n",
              "      <th></th>\n",
              "      <th></th>\n",
              "      <th></th>\n",
              "      <th></th>\n",
              "    </tr>\n",
              "  </thead>\n",
              "  <tbody>\n",
              "    <tr>\n",
              "      <th>2019-01-11 15:08:04.950</th>\n",
              "      <td>NaN</td>\n",
              "      <td>NaN</td>\n",
              "      <td>NaN</td>\n",
              "      <td>-10.671</td>\n",
              "      <td>-1.524</td>\n",
              "      <td>5.976</td>\n",
              "      <td>B</td>\n",
              "      <td>bench</td>\n",
              "      <td>heavy1</td>\n",
              "      <td>30.0</td>\n",
              "    </tr>\n",
              "    <tr>\n",
              "      <th>2019-01-11 15:08:04.990</th>\n",
              "      <td>NaN</td>\n",
              "      <td>NaN</td>\n",
              "      <td>NaN</td>\n",
              "      <td>-8.720</td>\n",
              "      <td>-2.073</td>\n",
              "      <td>3.171</td>\n",
              "      <td>B</td>\n",
              "      <td>bench</td>\n",
              "      <td>heavy1</td>\n",
              "      <td>30.0</td>\n",
              "    </tr>\n",
              "    <tr>\n",
              "      <th>2019-01-11 15:08:05.030</th>\n",
              "      <td>NaN</td>\n",
              "      <td>NaN</td>\n",
              "      <td>NaN</td>\n",
              "      <td>0.488</td>\n",
              "      <td>-3.537</td>\n",
              "      <td>-4.146</td>\n",
              "      <td>B</td>\n",
              "      <td>bench</td>\n",
              "      <td>heavy1</td>\n",
              "      <td>30.0</td>\n",
              "    </tr>\n",
              "    <tr>\n",
              "      <th>2019-01-11 15:08:05.070</th>\n",
              "      <td>NaN</td>\n",
              "      <td>NaN</td>\n",
              "      <td>NaN</td>\n",
              "      <td>0.244</td>\n",
              "      <td>-5.854</td>\n",
              "      <td>3.537</td>\n",
              "      <td>B</td>\n",
              "      <td>bench</td>\n",
              "      <td>heavy1</td>\n",
              "      <td>30.0</td>\n",
              "    </tr>\n",
              "    <tr>\n",
              "      <th>2019-01-11 15:08:05.110</th>\n",
              "      <td>NaN</td>\n",
              "      <td>NaN</td>\n",
              "      <td>NaN</td>\n",
              "      <td>-0.915</td>\n",
              "      <td>0.061</td>\n",
              "      <td>-2.805</td>\n",
              "      <td>B</td>\n",
              "      <td>bench</td>\n",
              "      <td>heavy1</td>\n",
              "      <td>30.0</td>\n",
              "    </tr>\n",
              "  </tbody>\n",
              "</table>\n",
              "</div>"
            ],
            "text/plain": [
              "                         acc_x  acc_y  acc_z  gyro_x  gyro_y  gyro_z  \\\n",
              "epoch (ms)                                                             \n",
              "2019-01-11 15:08:04.950    NaN    NaN    NaN -10.671  -1.524   5.976   \n",
              "2019-01-11 15:08:04.990    NaN    NaN    NaN  -8.720  -2.073   3.171   \n",
              "2019-01-11 15:08:05.030    NaN    NaN    NaN   0.488  -3.537  -4.146   \n",
              "2019-01-11 15:08:05.070    NaN    NaN    NaN   0.244  -5.854   3.537   \n",
              "2019-01-11 15:08:05.110    NaN    NaN    NaN  -0.915   0.061  -2.805   \n",
              "\n",
              "                        participant excercise intensity   ind  \n",
              "epoch (ms)                                                     \n",
              "2019-01-11 15:08:04.950           B     bench    heavy1  30.0  \n",
              "2019-01-11 15:08:04.990           B     bench    heavy1  30.0  \n",
              "2019-01-11 15:08:05.030           B     bench    heavy1  30.0  \n",
              "2019-01-11 15:08:05.070           B     bench    heavy1  30.0  \n",
              "2019-01-11 15:08:05.110           B     bench    heavy1  30.0  "
            ]
          },
          "metadata": {},
          "output_type": "display_data"
        }
      ],
      "source": [
        "# --------------------------------------------------------------\n",
        "# Merging datasets\n",
        "# --------------------------------------------------------------\n",
        "df = pd.concat([df_acc.iloc[:,0:3], df_gyro], axis = 1)\n",
        "\n",
        "#  Since most data is not going to be synced to the millisecond since, the sensos are not synced\n",
        "df.dropna() # We see that most data is lost\n",
        "\n",
        "# Change column names\n",
        "df.columns = [\n",
        "    \"acc_x\",\n",
        "    \"acc_y\",\n",
        "    'acc_z',\n",
        "    \"gyro_x\",\n",
        "    \"gyro_y\",\n",
        "    \"gyro_z\",\n",
        "    \"participant\",\n",
        "    \"excercise\",\n",
        "    \"intensity\",\n",
        "    \"ind\"\n",
        "]\n",
        "\n",
        "display(df.head())\n"
      ]
    },
    {
      "cell_type": "code",
      "execution_count": 13,
      "metadata": {
        "colab": {
          "base_uri": "https://localhost:8080/"
        },
        "id": "SZ9W4r6EUEWA",
        "outputId": "8005e069-1c8b-46da-e608-206a84820a8c"
      },
      "outputs": [
        {
          "name": "stdout",
          "output_type": "stream",
          "text": [
            "<class 'pandas.core.frame.DataFrame'>\n",
            "DatetimeIndex: 9009 entries, 2019-01-11 15:08:05.200000 to 2019-01-20 17:33:27.800000\n",
            "Data columns (total 10 columns):\n",
            " #   Column       Non-Null Count  Dtype  \n",
            "---  ------       --------------  -----  \n",
            " 0   acc_x        9009 non-null   float64\n",
            " 1   acc_y        9009 non-null   float64\n",
            " 2   acc_z        9009 non-null   float64\n",
            " 3   gyro_x       9009 non-null   float64\n",
            " 4   gyro_y       9009 non-null   float64\n",
            " 5   gyro_z       9009 non-null   float64\n",
            " 6   participant  9009 non-null   object \n",
            " 7   excercise    9009 non-null   object \n",
            " 8   intensity    9009 non-null   object \n",
            " 9   ind          9009 non-null   float64\n",
            "dtypes: float64(7), object(3)\n",
            "memory usage: 774.2+ KB\n"
          ]
        }
      ],
      "source": [
        "# --------------------------------------------------------------\n",
        "# Resample data (frequency conversion)\n",
        "# --------------------------------------------------------------\n",
        "\n",
        "# Accelerometer:    12.500HZ\n",
        "# Gyroscope:        25.000Hz\n",
        "\n",
        "# Create a function for resampling\n",
        "def resampling(df):\n",
        "  sampling_rule = {\"acc_x\":\"mean\",\n",
        "                   \"acc_y\":\"mean\",\n",
        "                   'acc_z':\"mean\",\n",
        "                   \"gyro_x\":\"mean\",\n",
        "                   \"gyro_y\":\"mean\",\n",
        "                   \"gyro_z\":\"mean\",\n",
        "                   \"participant\":\"last\",\n",
        "                   \"excercise\":\"last\",\n",
        "                   \"intensity\":\"last\",\n",
        "                   \"ind\":\"last\"\n",
        "                   }\n",
        "  # Split the data by days\n",
        "  days = [g for n, g in df.groupby(pd.Grouper(freq=\"D\"))]\n",
        "  df = pd.concat([day.resample(rule=\"200ms\").apply(sampling_rule).dropna() for day in days])\n",
        "  return(df)\n",
        "\n",
        "df_resampled = resampling(df)\n",
        "df_resampled.info()\n",
        "# Changing ind to int\n",
        "\n",
        "df_resampled[\"ind\"] = df_resampled[\"ind\"].astype(\"int\")"
      ]
    },
    {
      "cell_type": "code",
      "execution_count": 15,
      "metadata": {
        "colab": {
          "base_uri": "https://localhost:8080/"
        },
        "id": "CtdUMQNDRJIJ",
        "outputId": "9c3201ee-a019-444b-e6b7-003648b5510d"
      },
      "outputs": [
        {
          "name": "stdout",
          "output_type": "stream",
          "text": [
            "<class 'pandas.core.frame.DataFrame'>\n",
            "DatetimeIndex: 9009 entries, 2019-01-11 15:08:05.200000 to 2019-01-20 17:33:27.800000\n",
            "Data columns (total 10 columns):\n",
            " #   Column       Non-Null Count  Dtype  \n",
            "---  ------       --------------  -----  \n",
            " 0   acc_x        9009 non-null   float64\n",
            " 1   acc_y        9009 non-null   float64\n",
            " 2   acc_z        9009 non-null   float64\n",
            " 3   gyro_x       9009 non-null   float64\n",
            " 4   gyro_y       9009 non-null   float64\n",
            " 5   gyro_z       9009 non-null   float64\n",
            " 6   participant  9009 non-null   object \n",
            " 7   excercise    9009 non-null   object \n",
            " 8   intensity    9009 non-null   object \n",
            " 9   ind          9009 non-null   int32  \n",
            "dtypes: float64(6), int32(1), object(3)\n",
            "memory usage: 739.0+ KB\n"
          ]
        }
      ],
      "source": [
        "# --------------------------------------------------------------\n",
        "# Export dataset\n",
        "# --------------------------------------------------------------\n",
        "df_resampled.info()\n",
        "df_resampled.to_pickle(\"../../data/interim/01_data_processed.pkl\")"
      ]
    }
  ],
  "metadata": {
    "colab": {
      "provenance": []
    },
    "kernelspec": {
      "display_name": "Python 3",
      "name": "python3"
    },
    "language_info": {
      "codemirror_mode": {
        "name": "ipython",
        "version": 3
      },
      "file_extension": ".py",
      "mimetype": "text/x-python",
      "name": "python",
      "nbconvert_exporter": "python",
      "pygments_lexer": "ipython3",
      "version": "3.11.7"
    }
  },
  "nbformat": 4,
  "nbformat_minor": 0
}
